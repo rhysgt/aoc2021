{
 "cells": [
  {
   "cell_type": "markdown",
   "id": "b0effe11-021f-4f7b-8942-e26541e26b79",
   "metadata": {},
   "source": [
    "# Day 2"
   ]
  },
  {
   "cell_type": "code",
   "execution_count": null,
   "id": "37ba35d2-9627-4e85-83a6-ff262fa10df4",
   "metadata": {},
   "outputs": [],
   "source": [
    "import numpy as np"
   ]
  },
  {
   "cell_type": "code",
   "execution_count": 56,
   "id": "5b51320d-aafb-4698-8e08-9d24fec3f89a",
   "metadata": {},
   "outputs": [
    {
     "name": "stdout",
     "output_type": "stream",
     "text": [
      "Number of values = 1000\n"
     ]
    }
   ],
   "source": [
    "# Load data from text file\n",
    "data = np.loadtxt('input/day2.txt', dtype=str)\n",
    "print('Number of values = {0}'.format(len(data)))"
   ]
  },
  {
   "cell_type": "markdown",
   "id": "77268ba0-b83b-4256-bf90-20bb1c4c1298",
   "metadata": {},
   "source": [
    "## Part 1"
   ]
  },
  {
   "cell_type": "code",
   "execution_count": 57,
   "id": "9d84b708-f2fe-4acf-8793-63ad18a3e1fc",
   "metadata": {},
   "outputs": [],
   "source": [
    "horizontal = 0\n",
    "depth = 0\n",
    "aim = 0"
   ]
  },
  {
   "cell_type": "code",
   "execution_count": 48,
   "id": "72790daa-f11b-4aab-a55c-c2931529d929",
   "metadata": {},
   "outputs": [],
   "source": [
    "for point in data:\n",
    "    if point[0] == 'forward':\n",
    "        horizontal += int(point[1])\n",
    "    elif point[0] == 'up':\n",
    "        depth -= int(point[1])\n",
    "    elif point[0] == 'down':\n",
    "        depth += int(point[1])\n",
    "    else:\n",
    "        print('Command {0} not expected'.format(point[0]))"
   ]
  },
  {
   "cell_type": "code",
   "execution_count": 49,
   "id": "3b223510-7147-48ce-a239-69342e86daf9",
   "metadata": {},
   "outputs": [
    {
     "name": "stdout",
     "output_type": "stream",
     "text": [
      "Horizontal position is 2024\n",
      "Depth is 717\n",
      "Answer is 1451208\n"
     ]
    }
   ],
   "source": [
    "print('Horizontal position is {0}'.format(horizontal))\n",
    "print('Depth is {0}'.format(depth))\n",
    "print('Answer is {0}'.format(horizontal*depth))"
   ]
  },
  {
   "cell_type": "markdown",
   "id": "d007eee3-d2e7-42ae-bd5d-b9b46710d170",
   "metadata": {},
   "source": [
    "## Part 2"
   ]
  },
  {
   "cell_type": "code",
   "execution_count": null,
   "id": "3dbeafec-cd55-4bcc-9953-e93d90b547a3",
   "metadata": {},
   "outputs": [],
   "source": [
    "horizontal = 0\n",
    "depth = 0\n",
    "aim = 0"
   ]
  },
  {
   "cell_type": "code",
   "execution_count": 58,
   "id": "0b94910e-0e08-43c6-a53f-c70406e10c7f",
   "metadata": {},
   "outputs": [],
   "source": [
    "for point in data:\n",
    "    if point[0] == 'forward':\n",
    "        horizontal += int(point[1])\n",
    "        depth += aim * int(point[1])\n",
    "    elif point[0] == 'up':\n",
    "        aim -= int(point[1])\n",
    "    elif point[0] == 'down':\n",
    "        aim += int(point[1])\n",
    "    else:\n",
    "        print('Command {0} not expected'.format(point[0]))"
   ]
  },
  {
   "cell_type": "code",
   "execution_count": 59,
   "id": "54931de7-f28c-489d-ae0d-34cdebce59cc",
   "metadata": {},
   "outputs": [
    {
     "name": "stdout",
     "output_type": "stream",
     "text": [
      "Horizontal position is 2024\n",
      "Depth is 800465\n",
      "Answer is 1620141160\n"
     ]
    }
   ],
   "source": [
    "print('Horizontal position is {0}'.format(horizontal))\n",
    "print('Depth is {0}'.format(depth))\n",
    "print('Answer is {0}'.format(horizontal*depth))"
   ]
  }
 ],
 "metadata": {
  "kernelspec": {
   "display_name": "Python 3",
   "language": "python",
   "name": "python3"
  },
  "language_info": {
   "codemirror_mode": {
    "name": "ipython",
    "version": 3
   },
   "file_extension": ".py",
   "mimetype": "text/x-python",
   "name": "python",
   "nbconvert_exporter": "python",
   "pygments_lexer": "ipython3",
   "version": "3.8.8"
  }
 },
 "nbformat": 4,
 "nbformat_minor": 5
}
