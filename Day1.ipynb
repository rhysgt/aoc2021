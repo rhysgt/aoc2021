{
 "cells": [
  {
   "cell_type": "markdown",
   "id": "b0effe11-021f-4f7b-8942-e26541e26b79",
   "metadata": {},
   "source": [
    "# Day 1"
   ]
  },
  {
   "cell_type": "code",
   "execution_count": 1,
   "id": "37ba35d2-9627-4e85-83a6-ff262fa10df4",
   "metadata": {},
   "outputs": [],
   "source": [
    "import numpy as np"
   ]
  },
  {
   "cell_type": "code",
   "execution_count": 2,
   "id": "5b51320d-aafb-4698-8e08-9d24fec3f89a",
   "metadata": {},
   "outputs": [
    {
     "name": "stdout",
     "output_type": "stream",
     "text": [
      "Number of values = 2000\n"
     ]
    }
   ],
   "source": [
    "# Load data from text file\n",
    "data = np.loadtxt('input/day1.txt')\n",
    "print('Number of values = {0}'.format(len(data)))"
   ]
  },
  {
   "cell_type": "markdown",
   "id": "f87b7b04-d690-48a7-8dd7-83fa15d52d0f",
   "metadata": {},
   "source": [
    "## Part 1"
   ]
  },
  {
   "cell_type": "code",
   "execution_count": 3,
   "id": "380f654c-8ad5-4e8b-8976-adbb54e58b64",
   "metadata": {},
   "outputs": [],
   "source": [
    "# Find out by how much each value is larger than the previous value\n",
    "diff = data[1:]-data[:-1]"
   ]
  },
  {
   "cell_type": "code",
   "execution_count": 4,
   "id": "b69f4943-75aa-436a-97c8-ff03d621de47",
   "metadata": {},
   "outputs": [
    {
     "name": "stdout",
     "output_type": "stream",
     "text": [
      "There are 1184 values larger than the previous value\n"
     ]
    }
   ],
   "source": [
    "# Find out how many values are larger than the previous values\n",
    "print('There are {0} values larger than the previous value'.format(np.sum(diff > 0)))"
   ]
  },
  {
   "cell_type": "markdown",
   "id": "c8c28fca-0748-4e67-95ec-916c6c5b38db",
   "metadata": {},
   "source": [
    "## Part 2"
   ]
  },
  {
   "cell_type": "code",
   "execution_count": 5,
   "id": "91785471-89b7-4796-9935-dcba9786a321",
   "metadata": {},
   "outputs": [
    {
     "name": "stdout",
     "output_type": "stream",
     "text": [
      "Number of sliding sum values = 1998\n"
     ]
    }
   ],
   "source": [
    "# Generate the sliding sum\n",
    "sliding_sum=data[:-2]+data[1:-1]+data[2:]\n",
    "print('Number of sliding sum values = {0}'.format(len(sliding_sum)))"
   ]
  },
  {
   "cell_type": "code",
   "execution_count": 6,
   "id": "26daf742-b31d-4c16-8cc3-963d28430fd9",
   "metadata": {},
   "outputs": [],
   "source": [
    "# Find out by how much each value is larger than the previous value\n",
    "diff = sliding_sum[1:]-sliding_sum[:-1]"
   ]
  },
  {
   "cell_type": "code",
   "execution_count": 7,
   "id": "0495eeb1-f02c-472a-a660-279cc0c479a3",
   "metadata": {},
   "outputs": [
    {
     "name": "stdout",
     "output_type": "stream",
     "text": [
      "There are 1158 values larger than the previous value\n"
     ]
    }
   ],
   "source": [
    "# Find out how many values are larger than the previous values\n",
    "print('There are {0} values larger than the previous value'.format(np.sum(diff > 0)))"
   ]
  }
 ],
 "metadata": {
  "kernelspec": {
   "display_name": "Python 3",
   "language": "python",
   "name": "python3"
  },
  "language_info": {
   "codemirror_mode": {
    "name": "ipython",
    "version": 3
   },
   "file_extension": ".py",
   "mimetype": "text/x-python",
   "name": "python",
   "nbconvert_exporter": "python",
   "pygments_lexer": "ipython3",
   "version": "3.8.8"
  }
 },
 "nbformat": 4,
 "nbformat_minor": 5
}
