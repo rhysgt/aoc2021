{
 "cells": [
  {
   "cell_type": "markdown",
   "id": "b0effe11-021f-4f7b-8942-e26541e26b79",
   "metadata": {},
   "source": [
    "# Day 3"
   ]
  },
  {
   "cell_type": "code",
   "execution_count": 106,
   "id": "37ba35d2-9627-4e85-83a6-ff262fa10df4",
   "metadata": {},
   "outputs": [],
   "source": [
    "import numpy as np\n",
    "import pandas as pd"
   ]
  },
  {
   "cell_type": "code",
   "execution_count": 107,
   "id": "5b51320d-aafb-4698-8e08-9d24fec3f89a",
   "metadata": {},
   "outputs": [
    {
     "name": "stdout",
     "output_type": "stream",
     "text": [
      "Number of values = 1000\n"
     ]
    }
   ],
   "source": [
    "# Load data from text file\n",
    "data = np.loadtxt('input/day3.txt', dtype='str')\n",
    "print('Number of values = {0}'.format(len(data)))"
   ]
  },
  {
   "cell_type": "markdown",
   "id": "77268ba0-b83b-4256-bf90-20bb1c4c1298",
   "metadata": {},
   "source": [
    "## Part 1"
   ]
  },
  {
   "cell_type": "code",
   "execution_count": 92,
   "id": "9d84b708-f2fe-4acf-8793-63ad18a3e1fc",
   "metadata": {},
   "outputs": [
    {
     "name": "stdout",
     "output_type": "stream",
     "text": [
      "Gamma in binary = 000110001010\n",
      "Gamma in decimal = 394\n",
      "\n",
      "Epsilon in binary = 111001110101\n",
      "Epsilon in decimal = 3701\n",
      "\n",
      "Anwser = 1458194\n"
     ]
    }
   ],
   "source": [
    "gamma = np.full(len(data[0]), 'a')\n",
    "epsilon = np.full(len(data[0]), 'a')\n",
    "\n",
    "for i in range(len(data[0])):\n",
    "    row = np.array([int(digit[i]) for digit in data])\n",
    "    try:\n",
    "        if np.sum(row==1) > 500:\n",
    "            gamma[i] = str(1)\n",
    "        elif np.sum(row==0) > 500:\n",
    "            gamma[i] = str(0)\n",
    "    except Valuerror:\n",
    "        print('1 and 0 equally probable in bit {0}'.format(i))\n",
    "        \n",
    "gamma = ''.join(gamma)\n",
    "gamma_decimal = int(gamma,2)\n",
    "print('Gamma in binary = {0}'.format(gamma))\n",
    "print('Gamma in decimal = {0}\\n'.format(gamma_decimal))\n",
    "\n",
    "epsilon = np.array([str(1-int(i)) for i in gamma])\n",
    "epsilon = ''.join(epsilon)\n",
    "epsilon_decimal = int(epsilon,2)\n",
    "print('Epsilon in binary = {0}'.format(epsilon))\n",
    "print('Epsilon in decimal = {0}\\n'.format(epsilon_decimal))\n",
    "\n",
    "print('Anwser = {0}'.format(epsilon_decimal * gamma_decimal))"
   ]
  },
  {
   "cell_type": "markdown",
   "id": "d007eee3-d2e7-42ae-bd5d-b9b46710d170",
   "metadata": {},
   "source": [
    "## Part 1 (pandas)"
   ]
  },
  {
   "cell_type": "code",
   "execution_count": 338,
   "id": "84fe3f34-de1a-4903-9b9a-27869d852a88",
   "metadata": {},
   "outputs": [],
   "source": [
    "data = pd.read_csv('input/day3.txt', header=None, dtype=str)"
   ]
  },
  {
   "cell_type": "code",
   "execution_count": 339,
   "id": "31fdeedb-6f32-47e7-9423-8860f4312fcf",
   "metadata": {},
   "outputs": [
    {
     "data": {
      "text/html": [
       "<div>\n",
       "<style scoped>\n",
       "    .dataframe tbody tr th:only-of-type {\n",
       "        vertical-align: middle;\n",
       "    }\n",
       "\n",
       "    .dataframe tbody tr th {\n",
       "        vertical-align: top;\n",
       "    }\n",
       "\n",
       "    .dataframe thead th {\n",
       "        text-align: right;\n",
       "    }\n",
       "</style>\n",
       "<table border=\"1\" class=\"dataframe\">\n",
       "  <thead>\n",
       "    <tr style=\"text-align: right;\">\n",
       "      <th></th>\n",
       "      <th>0</th>\n",
       "      <th>1</th>\n",
       "      <th>2</th>\n",
       "      <th>3</th>\n",
       "      <th>4</th>\n",
       "      <th>5</th>\n",
       "      <th>6</th>\n",
       "      <th>7</th>\n",
       "      <th>8</th>\n",
       "      <th>9</th>\n",
       "      <th>10</th>\n",
       "      <th>11</th>\n",
       "    </tr>\n",
       "  </thead>\n",
       "  <tbody>\n",
       "    <tr>\n",
       "      <th>0</th>\n",
       "      <td>0</td>\n",
       "      <td>1</td>\n",
       "      <td>0</td>\n",
       "      <td>1</td>\n",
       "      <td>0</td>\n",
       "      <td>1</td>\n",
       "      <td>1</td>\n",
       "      <td>1</td>\n",
       "      <td>0</td>\n",
       "      <td>0</td>\n",
       "      <td>0</td>\n",
       "      <td>0</td>\n",
       "    </tr>\n",
       "    <tr>\n",
       "      <th>1</th>\n",
       "      <td>0</td>\n",
       "      <td>1</td>\n",
       "      <td>0</td>\n",
       "      <td>0</td>\n",
       "      <td>1</td>\n",
       "      <td>1</td>\n",
       "      <td>0</td>\n",
       "      <td>0</td>\n",
       "      <td>0</td>\n",
       "      <td>1</td>\n",
       "      <td>1</td>\n",
       "      <td>0</td>\n",
       "    </tr>\n",
       "    <tr>\n",
       "      <th>2</th>\n",
       "      <td>0</td>\n",
       "      <td>1</td>\n",
       "      <td>0</td>\n",
       "      <td>1</td>\n",
       "      <td>0</td>\n",
       "      <td>1</td>\n",
       "      <td>0</td>\n",
       "      <td>0</td>\n",
       "      <td>0</td>\n",
       "      <td>0</td>\n",
       "      <td>1</td>\n",
       "      <td>1</td>\n",
       "    </tr>\n",
       "    <tr>\n",
       "      <th>3</th>\n",
       "      <td>1</td>\n",
       "      <td>1</td>\n",
       "      <td>1</td>\n",
       "      <td>1</td>\n",
       "      <td>0</td>\n",
       "      <td>0</td>\n",
       "      <td>1</td>\n",
       "      <td>0</td>\n",
       "      <td>0</td>\n",
       "      <td>0</td>\n",
       "      <td>0</td>\n",
       "      <td>1</td>\n",
       "    </tr>\n",
       "    <tr>\n",
       "      <th>4</th>\n",
       "      <td>0</td>\n",
       "      <td>1</td>\n",
       "      <td>1</td>\n",
       "      <td>1</td>\n",
       "      <td>0</td>\n",
       "      <td>0</td>\n",
       "      <td>1</td>\n",
       "      <td>1</td>\n",
       "      <td>0</td>\n",
       "      <td>1</td>\n",
       "      <td>0</td>\n",
       "      <td>1</td>\n",
       "    </tr>\n",
       "    <tr>\n",
       "      <th>...</th>\n",
       "      <td>...</td>\n",
       "      <td>...</td>\n",
       "      <td>...</td>\n",
       "      <td>...</td>\n",
       "      <td>...</td>\n",
       "      <td>...</td>\n",
       "      <td>...</td>\n",
       "      <td>...</td>\n",
       "      <td>...</td>\n",
       "      <td>...</td>\n",
       "      <td>...</td>\n",
       "      <td>...</td>\n",
       "    </tr>\n",
       "    <tr>\n",
       "      <th>995</th>\n",
       "      <td>1</td>\n",
       "      <td>0</td>\n",
       "      <td>1</td>\n",
       "      <td>1</td>\n",
       "      <td>0</td>\n",
       "      <td>1</td>\n",
       "      <td>0</td>\n",
       "      <td>0</td>\n",
       "      <td>1</td>\n",
       "      <td>0</td>\n",
       "      <td>1</td>\n",
       "      <td>0</td>\n",
       "    </tr>\n",
       "    <tr>\n",
       "      <th>996</th>\n",
       "      <td>1</td>\n",
       "      <td>1</td>\n",
       "      <td>0</td>\n",
       "      <td>1</td>\n",
       "      <td>0</td>\n",
       "      <td>1</td>\n",
       "      <td>1</td>\n",
       "      <td>1</td>\n",
       "      <td>1</td>\n",
       "      <td>1</td>\n",
       "      <td>0</td>\n",
       "      <td>1</td>\n",
       "    </tr>\n",
       "    <tr>\n",
       "      <th>997</th>\n",
       "      <td>0</td>\n",
       "      <td>1</td>\n",
       "      <td>0</td>\n",
       "      <td>1</td>\n",
       "      <td>0</td>\n",
       "      <td>0</td>\n",
       "      <td>0</td>\n",
       "      <td>0</td>\n",
       "      <td>0</td>\n",
       "      <td>1</td>\n",
       "      <td>1</td>\n",
       "      <td>0</td>\n",
       "    </tr>\n",
       "    <tr>\n",
       "      <th>998</th>\n",
       "      <td>0</td>\n",
       "      <td>1</td>\n",
       "      <td>1</td>\n",
       "      <td>1</td>\n",
       "      <td>0</td>\n",
       "      <td>1</td>\n",
       "      <td>1</td>\n",
       "      <td>0</td>\n",
       "      <td>0</td>\n",
       "      <td>1</td>\n",
       "      <td>1</td>\n",
       "      <td>0</td>\n",
       "    </tr>\n",
       "    <tr>\n",
       "      <th>999</th>\n",
       "      <td>0</td>\n",
       "      <td>1</td>\n",
       "      <td>1</td>\n",
       "      <td>0</td>\n",
       "      <td>1</td>\n",
       "      <td>1</td>\n",
       "      <td>0</td>\n",
       "      <td>1</td>\n",
       "      <td>0</td>\n",
       "      <td>0</td>\n",
       "      <td>1</td>\n",
       "      <td>0</td>\n",
       "    </tr>\n",
       "  </tbody>\n",
       "</table>\n",
       "<p>1000 rows × 12 columns</p>\n",
       "</div>"
      ],
      "text/plain": [
       "     0   1   2   3   4   5   6   7   8   9   10  11\n",
       "0     0   1   0   1   0   1   1   1   0   0   0   0\n",
       "1     0   1   0   0   1   1   0   0   0   1   1   0\n",
       "2     0   1   0   1   0   1   0   0   0   0   1   1\n",
       "3     1   1   1   1   0   0   1   0   0   0   0   1\n",
       "4     0   1   1   1   0   0   1   1   0   1   0   1\n",
       "..   ..  ..  ..  ..  ..  ..  ..  ..  ..  ..  ..  ..\n",
       "995   1   0   1   1   0   1   0   0   1   0   1   0\n",
       "996   1   1   0   1   0   1   1   1   1   1   0   1\n",
       "997   0   1   0   1   0   0   0   0   0   1   1   0\n",
       "998   0   1   1   1   0   1   1   0   0   1   1   0\n",
       "999   0   1   1   0   1   1   0   1   0   0   1   0\n",
       "\n",
       "[1000 rows x 12 columns]"
      ]
     },
     "execution_count": 339,
     "metadata": {},
     "output_type": "execute_result"
    }
   ],
   "source": [
    "# Split characters out into columns\n",
    "data = data[0].apply(lambda x: pd.Series(list(x)))\n",
    "data = data.astype(int)\n",
    "data"
   ]
  },
  {
   "cell_type": "code",
   "execution_count": 398,
   "id": "1d514035-685b-4859-b9bc-5d1217621f4a",
   "metadata": {},
   "outputs": [
    {
     "name": "stdout",
     "output_type": "stream",
     "text": [
      "Gamma in binary = 000110001010\n",
      "Gamma in decimal = 394\n",
      "\n"
     ]
    }
   ],
   "source": [
    "gamma = data.mode(axis=0)\n",
    "gamma = ''.join(gamma.values[0].astype('str'))\n",
    "gamma_decimal = int(gamma,2)\n",
    "\n",
    "print('Gamma in binary = {0}'.format(gamma))\n",
    "print('Gamma in decimal = {0}\\n'.format(gamma_decimal))"
   ]
  },
  {
   "cell_type": "code",
   "execution_count": 399,
   "id": "4d470292-cb1f-4a64-bbaf-3da24fa4b913",
   "metadata": {},
   "outputs": [
    {
     "name": "stdout",
     "output_type": "stream",
     "text": [
      "Epsilon in binary = 111001110101\n",
      "Epsilon in decimal = 3701\n",
      "\n",
      "Gamma * Epsilon = 1458194\n"
     ]
    }
   ],
   "source": [
    "epsilon = ''.join(np.array([str(1-int(i)) for i in gamma]))\n",
    "epsilon_decimal = int(epsilon,2)\n",
    "print('Epsilon in binary = {0}'.format(epsilon))\n",
    "print('Epsilon in decimal = {0}\\n'.format(epsilon_decimal))\n",
    "\n",
    "print('Gamma * Epsilon = {0}'.format(epsilon_decimal * gamma_decimal))"
   ]
  },
  {
   "cell_type": "markdown",
   "id": "485f515a-31f2-4872-a4a0-ce91ec6da737",
   "metadata": {},
   "source": [
    "## Part 2 (pandas)"
   ]
  },
  {
   "cell_type": "code",
   "execution_count": 400,
   "id": "9e142ea8-c80c-46de-a7f3-5dceea675068",
   "metadata": {},
   "outputs": [
    {
     "name": "stdout",
     "output_type": "stream",
     "text": [
      "After filterning on bit 1 - 502 values remain\n",
      "After filterning on bit 2 - 265 values remain\n",
      "After filterning on bit 3 - 133 values remain\n",
      "After filterning on bit 4 - 68 values remain\n",
      "After filterning on bit 5 - 39 values remain\n",
      "After filterning on bit 6 - 20 values remain\n",
      "After filterning on bit 7 - 11 values remain\n",
      "After filterning on bit 8 - 6 values remain\n",
      "After filterning on bit 9 - 4 values remain\n",
      "After filterning on bit 10 - 2 values remain\n",
      "After filterning on bit 11 - 2 values remain\n",
      "After filterning on bit 12 - 1 values remain\n",
      "\n",
      "oxygen generator rating = 001100010101\n",
      "\n",
      "After filterning on bit 1 - 498 values remain\n",
      "After filterning on bit 2 - 246 values remain\n",
      "After filterning on bit 3 - 114 values remain\n",
      "After filterning on bit 4 - 56 values remain\n",
      "After filterning on bit 5 - 24 values remain\n",
      "After filterning on bit 6 - 10 values remain\n",
      "After filterning on bit 7 - 4 values remain\n",
      "After filterning on bit 8 - 2 values remain\n",
      "After filterning on bit 9 - 1 values remain\n",
      "\n",
      "CO2 scrubber rating = 111000000010\n"
     ]
    }
   ],
   "source": [
    "oxy_gen = data\n",
    "\n",
    "for (columnName, columnData) in oxy_gen.iteritems():\n",
    "    if len(oxy_gen) != 1:\n",
    "        if np.sum(oxy_gen[columnName].values) >= len(oxy_gen)/2:\n",
    "            oxy_gen = oxy_gen[oxy_gen[columnName] == 1]\n",
    "        elif np.sum(oxy_gen[columnName].values) < len(oxy_gen)/2:\n",
    "            oxy_gen = oxy_gen[oxy_gen[columnName] == 0]\n",
    "        else:\n",
    "            print('error')\n",
    "        \n",
    "        print('After filterning on bit {0} - {1} values remain'.format(columnName+1, len(oxy_gen)))\n",
    "        \n",
    "oxy_gen_binary = ''.join(oxy_gen.values[0].astype(str))\n",
    "print('\\noxygen generator rating = {0}\\n'.format(oxy_gen_binary))\n",
    "\n",
    "co2_scr = data\n",
    "\n",
    "for (columnName, columnData) in co2_scr.iteritems():\n",
    "    if len(co2_scr) != 1:\n",
    "        if np.sum(co2_scr[columnName].values) >= len(co2_scr)/2:\n",
    "            co2_scr = co2_scr[co2_scr[columnName] == 0]\n",
    "        elif np.sum(co2_scr[columnName].values) < len(co2_scr)/2:\n",
    "            co2_scr = co2_scr[co2_scr[columnName] == 1]\n",
    "        else:\n",
    "            print('error')\n",
    "        \n",
    "        print('After filterning on bit {0} - {1} values remain'.format(columnName+1, len(co2_scr)))\n",
    "\n",
    "co2_scr_binary = ''.join(co2_scr.values[0].astype(str))\n",
    "print('\\nCO2 scrubber rating = {0}'.format(co2_scr_binary))"
   ]
  },
  {
   "cell_type": "code",
   "execution_count": 401,
   "id": "e8db0a88-40b8-4c4d-8a38-78b52fec6961",
   "metadata": {},
   "outputs": [
    {
     "name": "stdout",
     "output_type": "stream",
     "text": [
      "oxygen generator rating = 001100010101\n",
      "oxygen generator rating = 789\n",
      "\n",
      "CO2 scrubber rating = 111000000010\n",
      "CO2 scrubber rating = 3586\n",
      "\n",
      "Answer = 2829354\n"
     ]
    }
   ],
   "source": [
    "oxy_gen_dec = int(oxy_gen_binary,2)\n",
    "print('oxygen generator rating = {0}'.format(oxy_gen_binary))\n",
    "print('oxygen generator rating = {0}\\n'.format(oxy_gen_dec))\n",
    "\n",
    "co2_scr_dec = int(co2_scr_binary,2)\n",
    "print('CO2 scrubber rating = {0}'.format(co2_scr_binary))\n",
    "print('CO2 scrubber rating = {0}\\n'.format(co2_scr_dec))\n",
    "\n",
    "print('Answer = {0}'.format(co2_scr_dec*oxy_gen_dec))"
   ]
  }
 ],
 "metadata": {
  "kernelspec": {
   "display_name": "Python 3",
   "language": "python",
   "name": "python3"
  },
  "language_info": {
   "codemirror_mode": {
    "name": "ipython",
    "version": 3
   },
   "file_extension": ".py",
   "mimetype": "text/x-python",
   "name": "python",
   "nbconvert_exporter": "python",
   "pygments_lexer": "ipython3",
   "version": "3.8.8"
  }
 },
 "nbformat": 4,
 "nbformat_minor": 5
}
